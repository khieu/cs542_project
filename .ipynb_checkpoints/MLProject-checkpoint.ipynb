{
 "cells": [
  {
   "cell_type": "code",
   "execution_count": 5,
   "metadata": {},
   "outputs": [],
   "source": [
    "from scipy.io import arff\n",
    "import numpy as np"
   ]
  },
  {
   "cell_type": "code",
   "execution_count": 6,
   "metadata": {},
   "outputs": [],
   "source": [
    "data_,meta = arff.loadarff(\"PhishingData.arff\")"
   ]
  },
  {
   "cell_type": "code",
   "execution_count": 7,
   "metadata": {},
   "outputs": [
    {
     "data": {
      "text/plain": [
       "Dataset: 'Phishing-weka.filters.supervised.attribute.AttributeSelection-Eweka.attributeSelection.InfoGainAttributeEval-Sweka.attributeSelection.Ranker\n",
       "\tSFH's type is nominal, range is ('1', '-1', '0')\n",
       "\tpopUpWidnow's type is nominal, range is ('-1', '0', '1')\n",
       "\tSSLfinal_State's type is nominal, range is ('1', '-1', '0')\n",
       "\tRequest_URL's type is nominal, range is ('-1', '0', '1')\n",
       "\tURL_of_Anchor's type is nominal, range is ('-1', '0', '1')\n",
       "\tweb_traffic's type is nominal, range is ('1', '0', '-1')\n",
       "\tURL_Length's type is nominal, range is ('1', '-1', '0')\n",
       "\tage_of_domain's type is nominal, range is ('1', '-1')\n",
       "\thaving_IP_Address's type is nominal, range is ('0', '1')\n",
       "\tResult's type is nominal, range is ('0', '1', '-1')"
      ]
     },
     "execution_count": 7,
     "metadata": {},
     "output_type": "execute_result"
    }
   ],
   "source": [
    "meta"
   ]
  },
  {
   "cell_type": "code",
   "execution_count": 8,
   "metadata": {},
   "outputs": [
    {
     "name": "stdout",
     "output_type": "stream",
     "text": [
      "0 1353 0\n"
     ]
    }
   ],
   "source": [
    "count_1 = 0; count_neg_1 = 0; count_0 = 0\n",
    "\n",
    "for point in data_:\n",
    "    if point[-1] == 1:\n",
    "        count_1 +=1\n",
    "    elif point[-1] == -1:\n",
    "        count_neg_1 +=1\n",
    "    else:\n",
    "        count_0 +=1\n",
    "print(count_neg_1, count_0, count_1)"
   ]
  },
  {
   "cell_type": "code",
   "execution_count": 9,
   "metadata": {},
   "outputs": [],
   "source": [
    "data_ = data.astype(np.dtype([('SFH', 'int64'), ('popUpWidnow', 'int64'), ('SSLfinal_State', 'int64'), ('Request_URL', 'int64'), ('URL_of_Anchor', 'int64'), ('web_traffic', 'int64'), ('URL_Length', 'int64'), ('age_of_domain', 'int64'), ('having_IP_Address', 'int64'), ('Result', 'int64')]))"
   ]
  },
  {
   "cell_type": "code",
   "execution_count": 10,
   "metadata": {},
   "outputs": [
    {
     "data": {
      "text/plain": [
       "array([( 1, -1,  1, -1, -1, 1,  1,  1, 0,  0),\n",
       "       (-1, -1, -1, -1, -1, 0,  1,  1, 1,  1),\n",
       "       ( 1, -1,  0,  0, -1, 0, -1,  1, 0,  1), ...,\n",
       "       (-1,  0, -1, -1, -1, 0, -1, -1, 0,  1),\n",
       "       ( 0,  0,  1,  0,  0, 0, -1,  1, 0,  1),\n",
       "       ( 1,  0,  1,  1,  1, 0, -1, -1, 0, -1)],\n",
       "      dtype=[('SFH', '<i8'), ('popUpWidnow', '<i8'), ('SSLfinal_State', '<i8'), ('Request_URL', '<i8'), ('URL_of_Anchor', '<i8'), ('web_traffic', '<i8'), ('URL_Length', '<i8'), ('age_of_domain', '<i8'), ('having_IP_Address', '<i8'), ('Result', '<i8')])"
      ]
     },
     "execution_count": 10,
     "metadata": {},
     "output_type": "execute_result"
    }
   ],
   "source": [
    "data_"
   ]
  },
  {
   "cell_type": "code",
   "execution_count": 13,
   "metadata": {},
   "outputs": [
    {
     "data": {
      "text/plain": [
       "10"
      ]
     },
     "execution_count": 13,
     "metadata": {},
     "output_type": "execute_result"
    }
   ],
   "source": [
    "len(data_[1])"
   ]
  },
  {
   "cell_type": "code",
   "execution_count": null,
   "metadata": {},
   "outputs": [],
   "source": []
  }
 ],
 "metadata": {
  "kernelspec": {
   "display_name": "Python 3",
   "language": "python",
   "name": "python3"
  },
  "language_info": {
   "codemirror_mode": {
    "name": "ipython",
    "version": 3
   },
   "file_extension": ".py",
   "mimetype": "text/x-python",
   "name": "python",
   "nbconvert_exporter": "python",
   "pygments_lexer": "ipython3",
   "version": "3.6.6"
  }
 },
 "nbformat": 4,
 "nbformat_minor": 2
}

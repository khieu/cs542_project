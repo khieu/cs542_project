{
 "cells": [
  {
   "cell_type": "code",
   "execution_count": 188,
   "metadata": {},
   "outputs": [],
   "source": [
    "from scipy.io import arff\n",
    "import numpy as np\n",
    "from sklearn import svm\n",
    "from sklearn.metrics import confusion_matrix,accuracy_score\n",
    "\n",
    "data,meta = arff.loadarff(\"PhishingData.arff\")\n",
    "\n",
    "#meta\n",
    "data_ = data.astype(np.dtype([('SFH', 'int64'), ('popUpWidnow', 'int64'), ('SSLfinal_State', 'int64'), ('Request_URL', 'int64'), ('URL_of_Anchor', 'int64'), ('web_traffic', 'int64'), ('URL_Length', 'int64'), ('age_of_domain', 'int64'), ('having_IP_Address', 'int64'), ('Result', 'int64')]))\n",
    "\n",
    "count_1 = 0; count_neg_1 = 0; count_0 = 0\n",
    "\n",
    "\n",
    "partition_by_classes = {\n",
    "    -1: [],\n",
    "    0:[],\n",
    "    1: []\n",
    "}\n",
    "neg_class = [point for point in data_ if point[-1] == -1]\n",
    "zero_class = [point for point in data_ if point[-1] == 0]\n",
    "one_class = [point for point in data_ if point[-1] == 1]\n",
    "\n",
    "# for point in data_:\n",
    "#     if point[-1] == 1:\n",
    "#        count_1 += 1\n",
    "#     elif point[-1] == -1:\n",
    "#         count_neg_1 +=1\n",
    "#     else:\n",
    "#         count_0 +=1\n",
    "# print(count_neg_1, count_0, count_1)\n",
    "#print(len(neg_class), len(zero_class), len(one_class))\n",
    "\n",
    "k = 10\n",
    "\n",
    "def create_k_fold(data, k):\n",
    "    k_subset = []\n",
    "    start_point = 0\n",
    "    for i in range(k):\n",
    "        if i == k -1:\n",
    "            k_subset.append(data[start_point:])\n",
    "            continue\n",
    "        rough_size = len(data) //k;\n",
    "        subset = data[start_point:start_point + rough_size]\n",
    "        k_subset.append(subset)\n",
    "        start_point = start_point + rough_size\n",
    "    \n",
    "    return k_subset\n",
    "\n",
    "k_neg_class = create_k_fold(neg_class, 10)\n",
    "k_zero_class = create_k_fold(zero_class, 10)\n",
    "k_one_class = create_k_fold(one_class, 10)\n"
   ]
  },
  {
   "cell_type": "code",
   "execution_count": 189,
   "metadata": {},
   "outputs": [],
   "source": [
    "training_neg_class = k_neg_class[0:9]\n",
    "training_zero_class = k_zero_class[0:9]\n",
    "training_one_class = k_one_class[0:9]\n",
    "testing_neg_class = k_neg_class[-1]\n",
    "testing_zero_class = k_zero_class[-1]\n",
    "testing_one_class = k_one_class[-1]\n",
    "train = training_neg_class + training_zero_class + training_one_class\n",
    "test = testing_neg_class +testing_zero_class+testing_one_class\n",
    "\n",
    "training_samples = []\n",
    "trainging_labels = []\n",
    "testing = []\n",
    "testing_labels = []\n",
    "for subset in train:\n",
    "    for sample in subset:\n",
    "        l = len(sample)\n",
    "        training_samples.append(list(sample)[0:l-1])\n",
    "        trainging_labels.append(sample[-1])\n",
    "\n",
    "for subset in test:\n",
    "    l = len(subset)\n",
    "    testing.append(list(subset)[0:l-1])\n",
    "    testing_labels.append(subset[-1])\n",
    "\n"
   ]
  },
  {
   "cell_type": "code",
   "execution_count": 190,
   "metadata": {},
   "outputs": [
    {
     "data": {
      "text/plain": [
       "147"
      ]
     },
     "execution_count": 190,
     "metadata": {},
     "output_type": "execute_result"
    }
   ],
   "source": [
    "len(testing)"
   ]
  },
  {
   "cell_type": "code",
   "execution_count": 191,
   "metadata": {},
   "outputs": [
    {
     "data": {
      "text/plain": [
       "SVC(C=1.0, cache_size=200, class_weight=None, coef0=0.0,\n",
       "  decision_function_shape='ovo', degree=3, gamma='auto', kernel='rbf',\n",
       "  max_iter=-1, probability=False, random_state=None, shrinking=True,\n",
       "  tol=0.001, verbose=False)"
      ]
     },
     "execution_count": 191,
     "metadata": {},
     "output_type": "execute_result"
    }
   ],
   "source": [
    "clf = svm.SVC(decision_function_shape='ovo')\n",
    "clf.fit(training_samples, trainging_labels) "
   ]
  },
  {
   "cell_type": "code",
   "execution_count": 194,
   "metadata": {},
   "outputs": [],
   "source": [
    "pre = clf.predict(testing)\n",
    "mat = confusion_matrix(testing_labels,pre)\n",
    "accuracy = accuracy_score(testing_labels,pre)"
   ]
  },
  {
   "cell_type": "code",
   "execution_count": 195,
   "metadata": {},
   "outputs": [
    {
     "name": "stdout",
     "output_type": "stream",
     "text": [
      "[[67  1  4]\n",
      " [ 3  2  8]\n",
      " [ 5  0 57]]\n",
      "accuracy is:  0.8571428571428571\n"
     ]
    }
   ],
   "source": [
    "print(mat)\n",
    "print('accuracy is: ',accuracy)"
   ]
  },
  {
   "cell_type": "code",
   "execution_count": 213,
   "metadata": {},
   "outputs": [],
   "source": [
    "def SVM(k_one_class,k_neg_class,k_zero_class,n_fold):\n",
    "    for i in range(n_fold):\n",
    "        testing_index = i\n",
    "        training_neg_class = k_neg_class[0:i+1] + k_neg_class[i+1:]\n",
    "        training_zero_class =k_zero_class[0:i+1] + k_zero_class[i+1:]\n",
    "        training_one_class = k_one_class[0:i+1] + k_one_class[i+1:]\n",
    "        testing_neg_class = k_neg_class[i]\n",
    "        testing_zero_class = k_zero_class[i]\n",
    "        testing_one_class = k_one_class[i]\n",
    "        train = training_neg_class + training_zero_class + training_one_class\n",
    "        test = testing_neg_class +testing_zero_class+testing_one_class\n",
    "        training_samples = []\n",
    "        trainging_labels = []\n",
    "        testing = []\n",
    "        testing_labels = []\n",
    "\n",
    "\n",
    "        for subset in train:\n",
    "            for sample in subset:\n",
    "                l = len(sample)\n",
    "                training_samples.append(list(sample)[0:l-1])\n",
    "                trainging_labels.append(sample[-1])\n",
    "\n",
    "        for subset in test:\n",
    "            l = len(subset)\n",
    "            testing.append(list(subset)[0:l-1])\n",
    "            testing_labels.append(subset[-1])\n",
    "        clf = svm.SVC(decision_function_shape='ovo')\n",
    "        clf.fit(training_samples, trainging_labels)\n",
    "        pre = clf.predict(testing)\n",
    "        mat = confusion_matrix(testing_labels,pre)\n",
    "        accuracy = accuracy_score(testing_labels,pre)\n",
    "        print('%dth bin is the test bin',i)\n",
    "        print(mat)\n",
    "        print('accuracy is: ',accuracy)"
   ]
  },
  {
   "cell_type": "code",
   "execution_count": 214,
   "metadata": {},
   "outputs": [
    {
     "name": "stdout",
     "output_type": "stream",
     "text": [
      "%dth bin is the test bin 0\n",
      "accuracy is:  0.8805970149253731\n",
      "%dth bin is the test bin 1\n",
      "accuracy is:  0.8656716417910447\n",
      "%dth bin is the test bin 2\n",
      "accuracy is:  0.8507462686567164\n",
      "%dth bin is the test bin 3\n",
      "accuracy is:  0.8955223880597015\n",
      "%dth bin is the test bin 4\n",
      "accuracy is:  0.8880597014925373\n",
      "%dth bin is the test bin 5\n",
      "accuracy is:  0.8955223880597015\n",
      "%dth bin is the test bin 6\n",
      "accuracy is:  0.8731343283582089\n",
      "%dth bin is the test bin 7\n",
      "accuracy is:  0.9328358208955224\n",
      "%dth bin is the test bin 8\n",
      "accuracy is:  0.8880597014925373\n",
      "%dth bin is the test bin 9\n",
      "accuracy is:  0.8639455782312925\n"
     ]
    }
   ],
   "source": [
    "SVM(k_one_class,k_neg_class,k_zero_class,10)"
   ]
  },
  {
   "cell_type": "code",
   "execution_count": null,
   "metadata": {},
   "outputs": [],
   "source": []
  }
 ],
 "metadata": {
  "kernelspec": {
   "display_name": "Python 3",
   "language": "python",
   "name": "python3"
  },
  "language_info": {
   "codemirror_mode": {
    "name": "ipython",
    "version": 3
   },
   "file_extension": ".py",
   "mimetype": "text/x-python",
   "name": "python",
   "nbconvert_exporter": "python",
   "pygments_lexer": "ipython3",
   "version": "3.6.6"
  }
 },
 "nbformat": 4,
 "nbformat_minor": 2
}

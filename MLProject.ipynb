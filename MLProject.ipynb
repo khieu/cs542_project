{
 "cells": [
  {
   "cell_type": "code",
   "execution_count": 4,
   "metadata": {},
   "outputs": [],
   "source": [
    "from scipy.io import arff\n",
    "import numpy as np"
   ]
  },
  {
   "cell_type": "code",
   "execution_count": 5,
   "metadata": {},
   "outputs": [],
   "source": [
    "data,meta = arff.loadarff(\"PhishingData.arff\")"
   ]
  },
  {
   "cell_type": "code",
   "execution_count": 8,
   "metadata": {},
   "outputs": [],
   "source": [
    "meta\n",
    "data_ = data.astype(np.dtype([('SFH', 'int64'), ('popUpWidnow', 'int64'), ('SSLfinal_State', 'int64'), ('Request_URL', 'int64'), ('URL_of_Anchor', 'int64'), ('web_traffic', 'int64'), ('URL_Length', 'int64'), ('age_of_domain', 'int64'), ('having_IP_Address', 'int64'), ('Result', 'int64')]))"
   ]
  },
  {
   "cell_type": "code",
   "execution_count": 12,
   "metadata": {},
   "outputs": [
    {
     "name": "stdout",
     "output_type": "stream",
     "text": [
      "702 103 548\n"
     ]
    }
   ],
   "source": [
    "count_1 = 0; count_neg_1 = 0; count_0 = 0\n",
    "\n",
    "\n",
    "partition_by_classes = {\n",
    "    -1: [],\n",
    "    0:[],\n",
    "    1: []\n",
    "}\n",
    "neg_class = [point for point in data_ if point[-1] == -1]\n",
    "zero_class = [point for point in data_ if point[-1] == 0]\n",
    "one_class = [point for point in data_ if point[-1] == 1]\n",
    "# for point in data_:\n",
    "#     if point[-1] == 1:\n",
    "#        count_1 += 1\n",
    "#     elif point[-1] == -1:\n",
    "#         count_neg_1 +=1\n",
    "#     else:\n",
    "#         count_0 +=1\n",
    "# print(count_neg_1, count_0, count_1)\n",
    "print(len(neg_class), len(zero_class), len(one_class))"
   ]
  },
  {
   "cell_type": "code",
   "execution_count": 17,
   "metadata": {},
   "outputs": [
    {
     "name": "stdout",
     "output_type": "stream",
     "text": [
      "10\n",
      "70\n",
      "70\n",
      "70\n",
      "70\n",
      "70\n",
      "70\n",
      "70\n",
      "70\n",
      "70\n",
      "72\n",
      "10\n",
      "10\n",
      "10\n",
      "10\n",
      "10\n",
      "10\n",
      "10\n",
      "10\n",
      "10\n",
      "10\n",
      "13\n",
      "10\n",
      "54\n",
      "54\n",
      "54\n",
      "54\n",
      "54\n",
      "54\n",
      "54\n",
      "54\n",
      "54\n",
      "62\n"
     ]
    }
   ],
   "source": [
    "k = 10\n",
    "\n",
    "def create_k_fold(data, k):\n",
    "    k_subset = []\n",
    "    start_point = 0\n",
    "    for i in range(k):\n",
    "        if i == k -1:\n",
    "            k_subset.append(data[start_point:])\n",
    "            continue\n",
    "        rough_size = len(data) //k;\n",
    "        subset = data[start_point:start_point + rough_size]\n",
    "        k_subset.append(subset)\n",
    "        start_point = start_point + rough_size\n",
    "    \n",
    "    return k_subset\n",
    "\n",
    "k_neg_class = create_k_fold(neg_class, 10)\n",
    "k_zero_class = create_k_fold(zero_class, 10)\n",
    "k_one_class = create_k_fold(one_class, 10)\n",
    "print(len(k_neg_class))\n",
    "for subset in k_neg_class:\n",
    "    print(len(subset))\n",
    "    \n",
    "print(len(k_neg_class))\n",
    "for subset in k_zero_class:\n",
    "    print(len(subset))\n",
    "print(len(k_neg_class))\n",
    "for subset in k_one_class:\n",
    "    print(len(subset))"
   ]
  },
  {
   "cell_type": "code",
   "execution_count": 10,
   "metadata": {},
   "outputs": [
    {
     "data": {
      "text/plain": [
       "array([( 1, -1,  1, -1, -1, 1,  1,  1, 0,  0),\n",
       "       (-1, -1, -1, -1, -1, 0,  1,  1, 1,  1),\n",
       "       ( 1, -1,  0,  0, -1, 0, -1,  1, 0,  1), ...,\n",
       "       (-1,  0, -1, -1, -1, 0, -1, -1, 0,  1),\n",
       "       ( 0,  0,  1,  0,  0, 0, -1,  1, 0,  1),\n",
       "       ( 1,  0,  1,  1,  1, 0, -1, -1, 0, -1)],\n",
       "      dtype=[('SFH', '<i8'), ('popUpWidnow', '<i8'), ('SSLfinal_State', '<i8'), ('Request_URL', '<i8'), ('URL_of_Anchor', '<i8'), ('web_traffic', '<i8'), ('URL_Length', '<i8'), ('age_of_domain', '<i8'), ('having_IP_Address', '<i8'), ('Result', '<i8')])"
      ]
     },
     "execution_count": 10,
     "metadata": {},
     "output_type": "execute_result"
    }
   ],
   "source": [
    "data_"
   ]
  },
  {
   "cell_type": "code",
   "execution_count": 24,
   "metadata": {},
   "outputs": [
    {
     "data": {
      "text/plain": [
       "1353"
      ]
     },
     "execution_count": 24,
     "metadata": {},
     "output_type": "execute_result"
    }
   ],
   "source": [
    "702+103+548"
   ]
  },
  {
   "cell_type": "code",
   "execution_count": null,
   "metadata": {},
   "outputs": [],
   "source": [
    "def knn"
   ]
  }
 ],
 "metadata": {
  "kernelspec": {
   "display_name": "Python 3",
   "language": "python",
   "name": "python3"
  },
  "language_info": {
   "codemirror_mode": {
    "name": "ipython",
    "version": 3
   },
   "file_extension": ".py",
   "mimetype": "text/x-python",
   "name": "python",
   "nbconvert_exporter": "python",
   "pygments_lexer": "ipython3",
   "version": "3.6.7"
  }
 },
 "nbformat": 4,
 "nbformat_minor": 2
}

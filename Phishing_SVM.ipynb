{
 "cells": [
  {
   "cell_type": "code",
   "execution_count": 3,
   "metadata": {},
   "outputs": [],
   "source": [
    "from scipy.io import arff\n",
    "import numpy as np\n",
    "from sklearn import svm\n",
    "from sklearn.metrics import confusion_matrix,accuracy_score\n",
    "\n",
    "data,meta = arff.loadarff(\"PhishingData.arff\")\n",
    "\n",
    "#meta\n",
    "data_ = data.astype(np.dtype([('SFH', 'int64'), ('popUpWidnow', 'int64'), ('SSLfinal_State', 'int64'), ('Request_URL', 'int64'), ('URL_of_Anchor', 'int64'), ('web_traffic', 'int64'), ('URL_Length', 'int64'), ('age_of_domain', 'int64'), ('having_IP_Address', 'int64'), ('Result', 'int64')]))\n",
    "\n",
    "count_1 = 0; count_neg_1 = 0; count_0 = 0\n",
    "\n",
    "\n",
    "partition_by_classes = {\n",
    "    -1: [],\n",
    "    0:[],\n",
    "    1: []\n",
    "}\n",
    "neg_class = [point for point in data_ if point[-1] == -1]\n",
    "zero_class = [point for point in data_ if point[-1] == 0]\n",
    "one_class = [point for point in data_ if point[-1] == 1]\n",
    "\n",
    "\n"
   ]
  },
  {
   "cell_type": "code",
   "execution_count": 4,
   "metadata": {},
   "outputs": [],
   "source": [
    "# Implementing K fold cross validation\n",
    "def create_k_fold(data, k):\n",
    "    k_subset = []\n",
    "    start_point = 0\n",
    "    for i in range(k):\n",
    "        if i == k -1:\n",
    "            k_subset.append(data[start_point:])\n",
    "            continue\n",
    "        rough_size = len(data) //k;\n",
    "        subset = data[start_point:start_point + rough_size]\n",
    "        k_subset.append(subset)\n",
    "        start_point = start_point + rough_size\n",
    "    \n",
    "    return k_subset\n",
    "\n",
    "k_neg_class = create_k_fold(neg_class, 10)\n",
    "k_zero_class = create_k_fold(zero_class, 10)\n",
    "k_one_class = create_k_fold(one_class, 10)\n"
   ]
  },
  {
   "cell_type": "code",
   "execution_count": 13,
   "metadata": {},
   "outputs": [],
   "source": [
    "#implementing SVM classification\n",
    "def SVM(k_one_class,k_neg_class,k_zero_class,n_fold,kernel_method,N_degree):\n",
    "    ac = 0\n",
    "    for i in range(n_fold):\n",
    "        testing_index = i\n",
    "        training_neg_class = k_neg_class[0:i+1] + k_neg_class[i+1:]\n",
    "        training_zero_class =k_zero_class[0:i+1] + k_zero_class[i+1:]\n",
    "        training_one_class = k_one_class[0:i+1] + k_one_class[i+1:]\n",
    "        testing_neg_class = k_neg_class[i]\n",
    "        testing_zero_class = k_zero_class[i]\n",
    "        testing_one_class = k_one_class[i]\n",
    "        train = training_neg_class + training_zero_class + training_one_class\n",
    "        test = testing_neg_class +testing_zero_class+testing_one_class\n",
    "        training_samples = []\n",
    "        trainging_labels = []\n",
    "        testing = []\n",
    "        testing_labels = []\n",
    "\n",
    "\n",
    "        for subset in train:\n",
    "            for sample in subset:\n",
    "                l = len(sample)\n",
    "                training_samples.append(list(sample)[0:l-1])\n",
    "                trainging_labels.append(sample[-1])\n",
    "\n",
    "        for subset in test:\n",
    "            l = len(subset)\n",
    "            testing.append(list(subset)[0:l-1])\n",
    "            testing_labels.append(subset[-1])\n",
    "            \n",
    "        clf = svm.SVC(decision_function_shape='ovo',kernel=kernel_method,coef0=1,degree=N_degree)\n",
    "        clf.fit(training_samples, trainging_labels)\n",
    "        pre = clf.predict(testing)\n",
    "        mat = confusion_matrix(testing_labels,pre)\n",
    "        accuracy = accuracy_score(testing_labels,pre)\n",
    "        ac += accuracy\n",
    "    print(\"average accuracy is: \",ac/n_fold)"
   ]
  },
  {
   "cell_type": "code",
   "execution_count": 16,
   "metadata": {},
   "outputs": [
    {
     "name": "stdout",
     "output_type": "stream",
     "text": [
      "average accuracy is:  0.8802264189257791\n"
     ]
    }
   ],
   "source": [
    "SVM(k_one_class,k_neg_class,k_zero_class,10,'poly',2)"
   ]
  },
  {
   "cell_type": "code",
   "execution_count": 17,
   "metadata": {},
   "outputs": [
    {
     "name": "stdout",
     "output_type": "stream",
     "text": [
      "average accuracy is:  0.9119199918773478\n"
     ]
    }
   ],
   "source": [
    "SVM(k_one_class,k_neg_class,k_zero_class,10,'poly',3)"
   ]
  },
  {
   "cell_type": "code",
   "execution_count": 18,
   "metadata": {},
   "outputs": [
    {
     "name": "stdout",
     "output_type": "stream",
     "text": [
      "average accuracy is:  0.931190983856229\n"
     ]
    }
   ],
   "source": [
    "SVM(k_one_class,k_neg_class,k_zero_class,10,'poly',4)"
   ]
  },
  {
   "cell_type": "code",
   "execution_count": 19,
   "metadata": {},
   "outputs": [
    {
     "name": "stdout",
     "output_type": "stream",
     "text": [
      "average accuracy is:  0.9474109046603717\n"
     ]
    }
   ],
   "source": [
    "SVM(k_one_class,k_neg_class,k_zero_class,10,'poly',5)"
   ]
  },
  {
   "cell_type": "code",
   "execution_count": 20,
   "metadata": {},
   "outputs": [
    {
     "name": "stdout",
     "output_type": "stream",
     "text": [
      "average accuracy is:  0.9563001319930958\n"
     ]
    }
   ],
   "source": [
    "SVM(k_one_class,k_neg_class,k_zero_class,10,'poly',6)"
   ]
  },
  {
   "cell_type": "code",
   "execution_count": 21,
   "metadata": {},
   "outputs": [
    {
     "name": "stdout",
     "output_type": "stream",
     "text": [
      "average accuracy is:  0.960031475276678\n"
     ]
    }
   ],
   "source": [
    "SVM(k_one_class,k_neg_class,k_zero_class,10,'poly',7)"
   ]
  },
  {
   "cell_type": "code",
   "execution_count": 22,
   "metadata": {},
   "outputs": [
    {
     "name": "stdout",
     "output_type": "stream",
     "text": [
      "average accuracy is:  0.7761904761904762\n"
     ]
    }
   ],
   "source": [
    "SVM(k_one_class,k_neg_class,k_zero_class,10,'sigmoid',0)"
   ]
  },
  {
   "cell_type": "code",
   "execution_count": 23,
   "metadata": {},
   "outputs": [
    {
     "name": "stdout",
     "output_type": "stream",
     "text": [
      "average accuracy is:  0.8411361559549194\n"
     ]
    }
   ],
   "source": [
    "SVM(k_one_class,k_neg_class,k_zero_class,10,'linear',1)"
   ]
  },
  {
   "cell_type": "code",
   "execution_count": null,
   "metadata": {},
   "outputs": [],
   "source": []
  }
 ],
 "metadata": {
  "kernelspec": {
   "display_name": "Python 3",
   "language": "python",
   "name": "python3"
  },
  "language_info": {
   "codemirror_mode": {
    "name": "ipython",
    "version": 3
   },
   "file_extension": ".py",
   "mimetype": "text/x-python",
   "name": "python",
   "nbconvert_exporter": "python",
   "pygments_lexer": "ipython3",
   "version": "3.6.6"
  }
 },
 "nbformat": 4,
 "nbformat_minor": 2
}
